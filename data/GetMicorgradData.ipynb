{
  "cells": [
    {
      "cell_type": "markdown",
      "metadata": {
        "id": "4ug9cu_38i0A"
      },
      "source": [
        "This notebook produces data used in https://github.com/karpathy/micrograd/blob/master/demo.ipynb"
      ]
    },
    {
      "cell_type": "code",
      "execution_count": 8,
      "metadata": {},
      "outputs": [
        {
          "name": "stdout",
          "output_type": "stream",
          "text": [
            "Defaulting to user installation because normal site-packages is not writeable\n",
            "Requirement already satisfied: numpy in /home/tmaj/.local/lib/python3.10/site-packages (1.23.3)\n",
            "Note: you may need to restart the kernel to use updated packages.\n"
          ]
        }
      ],
      "source": [
        "pip install numpy\n"
      ]
    },
    {
      "cell_type": "code",
      "execution_count": 9,
      "metadata": {},
      "outputs": [
        {
          "name": "stdout",
          "output_type": "stream",
          "text": [
            "Defaulting to user installation because normal site-packages is not writeable\n",
            "Collecting sklearn\n",
            "  Downloading sklearn-0.0.tar.gz (1.1 kB)\n",
            "  Preparing metadata (setup.py) ... \u001b[?25ldone\n",
            "\u001b[?25hCollecting scikit-learn\n",
            "  Downloading scikit_learn-1.1.2-cp310-cp310-manylinux_2_17_x86_64.manylinux2014_x86_64.whl (30.5 MB)\n",
            "\u001b[2K     \u001b[90m━━━━━━━━━━━━━━━━━━━━━━━━━━━━━━━━━━━━━━━━\u001b[0m \u001b[32m30.5/30.5 MB\u001b[0m \u001b[31m5.6 MB/s\u001b[0m eta \u001b[36m0:00:00\u001b[0m00:01\u001b[0m00:01\u001b[0m\n",
            "\u001b[?25hRequirement already satisfied: numpy>=1.17.3 in /home/tmaj/.local/lib/python3.10/site-packages (from scikit-learn->sklearn) (1.23.3)\n",
            "Collecting joblib>=1.0.0\n",
            "  Downloading joblib-1.2.0-py3-none-any.whl (297 kB)\n",
            "\u001b[2K     \u001b[90m━━━━━━━━━━━━━━━━━━━━━━━━━━━━━━━━━━━━━━━\u001b[0m \u001b[32m298.0/298.0 KB\u001b[0m \u001b[31m4.0 MB/s\u001b[0m eta \u001b[36m0:00:00\u001b[0m00:01\u001b[0m00:01\u001b[0m\n",
            "\u001b[?25hCollecting scipy>=1.3.2\n",
            "  Downloading scipy-1.9.1-cp310-cp310-manylinux_2_17_x86_64.manylinux2014_x86_64.whl (43.9 MB)\n",
            "\u001b[2K     \u001b[90m━━━━━━━━━━━━━━━━━━━━━━━━━━━━━━━━━━━━━━━━\u001b[0m \u001b[32m43.9/43.9 MB\u001b[0m \u001b[31m5.2 MB/s\u001b[0m eta \u001b[36m0:00:00\u001b[0m00:01\u001b[0m00:01\u001b[0m\n",
            "\u001b[?25hCollecting threadpoolctl>=2.0.0\n",
            "  Downloading threadpoolctl-3.1.0-py3-none-any.whl (14 kB)\n",
            "Building wheels for collected packages: sklearn\n",
            "  Building wheel for sklearn (setup.py) ... \u001b[?25ldone\n",
            "\u001b[?25h  Created wheel for sklearn: filename=sklearn-0.0-py2.py3-none-any.whl size=1310 sha256=e50b509dbe1b14ef5e5aff5327da247f7a22943222b222858764c8a814c470ad\n",
            "  Stored in directory: /home/tmaj/.cache/pip/wheels/9b/13/01/6f3a7fd641f90e1f6c8c7cded057f3394f451f340371c68f3d\n",
            "Successfully built sklearn\n",
            "Installing collected packages: threadpoolctl, scipy, joblib, scikit-learn, sklearn\n",
            "Successfully installed joblib-1.2.0 scikit-learn-1.1.2 scipy-1.9.1 sklearn-0.0 threadpoolctl-3.1.0\n",
            "Note: you may need to restart the kernel to use updated packages.\n"
          ]
        }
      ],
      "source": [
        "pip install sklearn"
      ]
    },
    {
      "cell_type": "code",
      "execution_count": 10,
      "metadata": {
        "id": "dMw1uAE38M3b"
      },
      "outputs": [],
      "source": [
        "import random\n",
        "import numpy as np"
      ]
    },
    {
      "cell_type": "code",
      "execution_count": 18,
      "metadata": {
        "colab": {
          "base_uri": "https://localhost:8080/"
        },
        "id": "HUJlhWjY8egE",
        "outputId": "534de200-4f20-4833-8532-2a1655070732"
      },
      "outputs": [
        {
          "name": "stderr",
          "output_type": "stream",
          "text": [
            "/home/tmaj/.local/lib/python3.10/site-packages/numpy/lib/npyio.py:1508: VisibleDeprecationWarning: Creating an ndarray from ragged nested sequences (which is a list-or-tuple of lists-or-tuples-or ndarrays with different lengths or shapes) is deprecated. If you meant to do this, you must specify 'dtype=object' when creating the ndarray.\n",
            "  X = np.asarray(X)\n"
          ]
        },
        {
          "ename": "TypeError",
          "evalue": "Mismatch between array dtype ('object') and format specifier ('%.18e')",
          "output_type": "error",
          "traceback": [
            "\u001b[0;31m---------------------------------------------------------------------------\u001b[0m",
            "\u001b[0;31mTypeError\u001b[0m                                 Traceback (most recent call last)",
            "File \u001b[0;32m~/.local/lib/python3.10/site-packages/numpy/lib/npyio.py:1565\u001b[0m, in \u001b[0;36msavetxt\u001b[0;34m(fname, X, fmt, delimiter, newline, header, footer, comments, encoding)\u001b[0m\n\u001b[1;32m   1564\u001b[0m \u001b[39mtry\u001b[39;00m:\n\u001b[0;32m-> 1565\u001b[0m     v \u001b[39m=\u001b[39m \u001b[39mformat\u001b[39;49m \u001b[39m%\u001b[39;49m \u001b[39mtuple\u001b[39;49m(row) \u001b[39m+\u001b[39m newline\n\u001b[1;32m   1566\u001b[0m \u001b[39mexcept\u001b[39;00m \u001b[39mTypeError\u001b[39;00m \u001b[39mas\u001b[39;00m e:\n",
            "\u001b[0;31mTypeError\u001b[0m: must be real number, not str",
            "\nThe above exception was the direct cause of the following exception:\n",
            "\u001b[0;31mTypeError\u001b[0m                                 Traceback (most recent call last)",
            "Cell \u001b[0;32mIn [18], line 17\u001b[0m\n\u001b[1;32m     13\u001b[0m labeled \u001b[38;5;241m=\u001b[39m \u001b[38;5;28mlist\u001b[39m(\u001b[38;5;28mzip\u001b[39m(X[:,\u001b[38;5;241m0\u001b[39m], X[:,\u001b[38;5;241m1\u001b[39m] ,y))\n\u001b[1;32m     14\u001b[0m \u001b[38;5;66;03m#for row in labeled:\u001b[39;00m\n\u001b[1;32m     15\u001b[0m     \u001b[38;5;66;03m#print(f\"{row[0]},   {row[1]},{row[2]}\")\u001b[39;00m\n\u001b[0;32m---> 17\u001b[0m np\u001b[38;5;241m.\u001b[39msavetxt(\u001b[38;5;124m'\u001b[39m\u001b[38;5;124mlabeled_data.csv\u001b[39m\u001b[38;5;124m'\u001b[39m, [\u001b[38;5;124m'\u001b[39m\u001b[38;5;124mx\u001b[39m\u001b[38;5;124m'\u001b[39m, \u001b[38;5;124m'\u001b[39m\u001b[38;5;124my\u001b[39m\u001b[38;5;124m'\u001b[39m, \u001b[38;5;124m'\u001b[39m\u001b[38;5;124mlabel\u001b[39m\u001b[38;5;124m'\u001b[39m] \u001b[38;5;241m+\u001b[39m labeled, delimiter\u001b[38;5;241m=\u001b[39m\u001b[38;5;124m'\u001b[39m\u001b[38;5;124m,\u001b[39m\u001b[38;5;124m'\u001b[39m)\n",
            "File \u001b[0;32m<__array_function__ internals>:180\u001b[0m, in \u001b[0;36msavetxt\u001b[0;34m(*args, **kwargs)\u001b[0m\n",
            "File \u001b[0;32m~/.local/lib/python3.10/site-packages/numpy/lib/npyio.py:1567\u001b[0m, in \u001b[0;36msavetxt\u001b[0;34m(fname, X, fmt, delimiter, newline, header, footer, comments, encoding)\u001b[0m\n\u001b[1;32m   1565\u001b[0m             v \u001b[39m=\u001b[39m \u001b[39mformat\u001b[39m \u001b[39m%\u001b[39m \u001b[39mtuple\u001b[39m(row) \u001b[39m+\u001b[39m newline\n\u001b[1;32m   1566\u001b[0m         \u001b[39mexcept\u001b[39;00m \u001b[39mTypeError\u001b[39;00m \u001b[39mas\u001b[39;00m e:\n\u001b[0;32m-> 1567\u001b[0m             \u001b[39mraise\u001b[39;00m \u001b[39mTypeError\u001b[39;00m(\u001b[39m\"\u001b[39m\u001b[39mMismatch between array dtype (\u001b[39m\u001b[39m'\u001b[39m\u001b[39m%s\u001b[39;00m\u001b[39m'\u001b[39m\u001b[39m) and \u001b[39m\u001b[39m\"\u001b[39m\n\u001b[1;32m   1568\u001b[0m                             \u001b[39m\"\u001b[39m\u001b[39mformat specifier (\u001b[39m\u001b[39m'\u001b[39m\u001b[39m%s\u001b[39;00m\u001b[39m'\u001b[39m\u001b[39m)\u001b[39m\u001b[39m\"\u001b[39m\n\u001b[1;32m   1569\u001b[0m                             \u001b[39m%\u001b[39m (\u001b[39mstr\u001b[39m(X\u001b[39m.\u001b[39mdtype), \u001b[39mformat\u001b[39m)) \u001b[39mfrom\u001b[39;00m \u001b[39me\u001b[39;00m\n\u001b[1;32m   1570\u001b[0m         fh\u001b[39m.\u001b[39mwrite(v)\n\u001b[1;32m   1572\u001b[0m \u001b[39mif\u001b[39;00m \u001b[39mlen\u001b[39m(footer) \u001b[39m>\u001b[39m \u001b[39m0\u001b[39m:\n",
            "\u001b[0;31mTypeError\u001b[0m: Mismatch between array dtype ('object') and format specifier ('%.18e')"
          ]
        }
      ],
      "source": [
        "# Get inputs and lables\n",
        "\n",
        "np.random.seed(1337)\n",
        "random.seed(1337)   \n",
        "\n",
        "# make up a dataset\n",
        "\n",
        "from sklearn.datasets import make_moons, make_blobs\n",
        "X, y = make_moons(n_samples=100, noise=0.1)\n",
        "\n",
        "y = y*2 - 1 # make y be -1 or 1\n",
        "\n",
        "labeled = list(zip(X[:,0], X[:,1] ,y))\n",
        "#for row in labeled:\n",
        "    #print(f\"{row[0]},   {row[1]},{row[2]}\")\n",
        "\n",
        "np.savetxt('labeled_data.csv', [('x', 'y', 'label')] + labeled, delimiter=',')"
      ]
    },
    {
      "cell_type": "code",
      "execution_count": 3,
      "metadata": {
        "colab": {
          "base_uri": "https://localhost:8080/"
        },
        "id": "QdVzdlmz8-pf",
        "outputId": "40617a56-e7a9-4b0c-9fdc-f73191dfca25"
      },
      "outputs": [
        {
          "name": "stdout",
          "output_type": "stream",
          "text": [
            "Drive already mounted at /content/drive; to attempt to forcibly remount, call drive.mount(\"/content/drive\", force_remount=True).\n"
          ]
        }
      ],
      "source": [
        "# I'm a baby in the Jupyter notebooks world. \n",
        "# TODO Can you import a module directly from github?\n",
        "\n",
        "from google.colab import drive\n",
        "drive.mount('/content/drive')\n",
        "\n",
        "!rm -r /content/micrograd\n",
        "!mkdir /content/micrograd\n",
        "!cp /content/drive/MyDrive/Colab\\ Notebooks/micrograd/engine.py /content/micrograd/engine.py\n",
        "!cp /content/drive/MyDrive/Colab\\ Notebooks/micrograd/nn.py /content/micrograd/nn.py\n",
        "\n"
      ]
    },
    {
      "cell_type": "code",
      "execution_count": 4,
      "metadata": {
        "colab": {
          "base_uri": "https://localhost:8080/"
        },
        "id": "jotFikOI8vH1",
        "outputId": "4a350203-d983-4243-ed7c-cf20e81b4b62"
      },
      "outputs": [
        {
          "name": "stdout",
          "output_type": "stream",
          "text": [
            "0.23550571390294128,0.06653114721000164,0,-0.26830328150124894,0.1715747078045431,0,-0.6686254326224383,0.6487474938152629,0,-0.23259038277158273,0.5792256498313748,0,0.8434530197925192,-0.3847332240409951,0,0.9844941451716409,-0.5901079958448365,0,0.31255526637777775,0.8246106857787521,0,-0.7814232047574572,0.6408752595662697,0,-0.20252189189007108,-0.8693137391598071,0,0.39841666323128555,-0.3037961142013801,0,-0.19282493884310759,0.6032250931493106,0,0.6001302646227185,0.32749776568749045,0,0.6650130652363544,0.1889136153241595,0,-0.07813264062433589,0.9151267732861252,0,0.5914405264235476,-0.3725442040076463,0,0.3810827422406471,0.8301999957053683,0,-0.08568482691922008,-0.4702876239420326,-0.598037011209763,-0.8653994554527067,0.05088685407468296,0.23734644010332318,0.15459549089529045,-0.9122391928398941,-0.18505999501786086,0.30584552737905213,0.23949109098065002,0.35119774963171047,0.26999576683073867,-0.6059558972032326,-0.4301483303818887,-0.09534359352124744,0,0.833061635489087,0.5964776511293395,-0.37143418174288434,0.5908148577342738,0.22158648570764017,-0.1356625769718156,0.5808552090645627,0.09921848842252134,0.5519936528601597,0.11082037875863104,0.2915133730664663,0.6968596263439943,-0.572699001261544,0.94892201097003,0.05815161059370322,0.05689619757216291,0,0.5506426045691593,-0.8991315551643992,-0.01068087363780501,0.47299771880745967,-0.08962899486130538,0.797578856715021,0.6099780726775426,-0.024825326467644793,0.5043619819611675,0.45774158735550596,-0.29478212096243595,0.11675968465796172,0.1379511601427985,-0.48542469349832285,-0.8664235814101062,-0.7390189923668276,0,-0.8822004511411428,-0.6597694707506181,0.6399602752689382,-0.6162690156778836,0.9053331545059524,0.667051974729419,0.7551658608563221,0.10907067581950436,-0.14588865117400673,0.2127856122995495,0.7622713432716846,0.8620382404752289,-0.1401108907535058,0.48216393547230973,-0.6888711593157701,0.2678404966193193,0,-0.3053994271093132,-0.8631814836201597,-0.29515687142070823,0.35372633701181444,0.20192101990676137,0.43475517949093345,-0.6169565150718037,-0.03186709594911474,0.22634427889578657,0.10564268012149869,-0.6805473384045992,0.422794461121468,0.6853554447554182,-0.21409905516555439,-0.6109356015626146,0.5254595422399804,0,0.24979744746643195,-0.16494497754636983,-0.6818144661499881,-0.06157981422579417,0.3953098897513252,-0.3566554480884392,-0.9395269671087605,0.19989246416270823,0.28261231537882425,-0.3861199056619302,0.8859519356381196,0.09224139623540206,0.5616028368830122,0.7479929232402773,-0.5498104256800536,-0.38944426340050686,0,-0.11986910432370723,-0.2418861692296186,0.27309902578900536,-0.7118613477995166,0.640699986750376,0.5251887402876205,-0.5265767665889542,0.6262237833195563,-0.8283374538902439,0.38807184998509303,-0.315003423604574,0.6825221766793921,-0.44958052796535997,0.054321569495217936,0.18838831645682874,-0.22248475258825984,0,-0.7209187740512764,0.7176790825016579,0.008555182533857453,-0.24243019229834561,0.27898488110769337,-0.7726321568042522,-0.5139485701725583,-0.8954946921521039,0.581615741803986,-0.5750613904646755,0.06993657839881884,0.8578625660652908,0.15993906511777078,-0.7940725880755064,0.7128617267763828,0.9005136363586974,0,0.01164370432983386,0.18191594886177542,0.28846645419632666,0.28220903218440285,-0.007467712517625236,-0.9683122463720533,-0.703733854503761,0.9555727255393986,0.8304099868721302,0.29860725600901694,0.23053684069095115,0.8609716364376814,0.470379750754194,-0.958287981521013,0.5814512996793573,-0.6753502452813329,0,0.5036443505111738,0.2955698675260916,0.4217229281756927,0.5984472102024547,-0.07808249126985456,0.6103717000192679,0.34645800749824374,0.504683663142057,-0.9498847321986592,-0.14743838678191312,0.5844330583547752,-0.7950857611747761,-0.6601994025531952,0.43550433241342956,0.8151878759155218,0.2604257711713296,0,0.7177690445444254,-0.686154027517816,-0.6063064618924185,-0.843421963461304,0.10008562568600432,0.8240605653030353,0.15495085113716178,-0.5089384775906294,0.8286765053073863,-0.8822610314096722,-0.5451509553109077,0.5761953058198175,-0.3434024177268147,0.10319781991345178,-0.05383238577004734,-0.6116507489401757,0,-0.8524536182338882,0.6964865423661555,0.32268922233815234,-0.2781907279339124,0.16059637633929102,-0.9446155428863412,0.8742237211553019,0.3582002209547388,0.9042806512794279,-0.8816062876600146,0.10041983326299175,-0.7698683314750423,0.30407601555374275,-0.20349872174164796,-0.4433144849231998,0.12433118993925452,0,-0.4258729196203048,0.3790360826044181,-0.9859455101873194,0.7028423162448694,-0.40122067203805645,-0.25683960260938843,0.5346953520807405,-0.35517369191511716,0.5121727526610462,-0.8868545578539118,0.518934991832354,-0.8928025540682154,0.5236713643981046,0.6018056040412896,0.24634309741440386,-0.20561868737419142,0,-0.652542799532154,-0.0065261577446391605,0.3493423738090866,-0.6324860574376863,-0.8530409123740017,-0.6218486564139833,0.9327230982583281,0.2793857831208002,0.5689184786100774,-0.6840675708965678,-0.5558656769249497,0.20592862129017364,-0.8391389406223104,-0.5529892816922855,-0.6278982991453468,-0.9592572536299122,0,0.9196221821038293,0.045865737597233114,0.5127293960073278,-0.7914104355296121,0.848793948186239,-0.3571964013350297,-0.8965914398912116,0.4191281777225171,-0.01884218503850832,0.6545963733751365,-0.3484979864252389,0.554377859246435,0.1689761071111946,-0.3388547761206535,0.397274795414263,-0.7930174038445066,0,0.077052593637436,0.3936052761946094,-0.8761639684113867,0.37877479983298445,-0.20339223773668702,-0.9231467276681604,-0.2020186036807059,0.9605940825345125,-0.9182348746309268,0.22922046437756505,-0.13194342373337498,-0.08703882869490953,0.984078978320559,0.19426273589837106,0.2294204003823488,0.12301724420660465,0,0.9128783824023976,-0.820982404658368,0.9648285595338895,0.3470665940198512,0.5436156893249604,0.49097996014038525,-0.9353940167321961,-0.707696853463387,-0.543868634071563,0.24162175370353833,-0.6723901907230767,-0.5973053326809556,0.6457663814022516,-0.2271549182489696,-0.3223491002609964,-0.2532524374373504,0\n"
          ]
        }
      ],
      "source": [
        "# (Optional) Get exact initial weights\n",
        "from micrograd.engine import Value\n",
        "from micrograd.nn import Neuron, Layer, MLP\n",
        "\n",
        "model = MLP(2, [16, 16, 1]) # 2-layer neural network\n",
        "weights = [x.data for x in  model.parameters()]\n",
        "print(','.join([str(x) for x in weights]))"
      ]
    }
  ],
  "metadata": {
    "colab": {
      "provenance": []
    },
    "kernelspec": {
      "display_name": "Python 3.10.6 64-bit",
      "language": "python",
      "name": "python3"
    },
    "language_info": {
      "codemirror_mode": {
        "name": "ipython",
        "version": 3
      },
      "file_extension": ".py",
      "mimetype": "text/x-python",
      "name": "python",
      "nbconvert_exporter": "python",
      "pygments_lexer": "ipython3",
      "version": "3.10.6"
    },
    "vscode": {
      "interpreter": {
        "hash": "31f2aee4e71d21fbe5cf8b01ff0e069b9275f58929596ceb00d14d90e3e16cd6"
      }
    }
  },
  "nbformat": 4,
  "nbformat_minor": 0
}
