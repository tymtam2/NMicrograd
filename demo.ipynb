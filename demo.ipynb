{
 "cells": [
  {
   "cell_type": "markdown",
   "metadata": {},
   "source": [
    "*To run please install the [.NET Interactive Notebooks](https://marketplace.visualstudio.com/items?itemName=ms-dotnettools.dotnet-interactive-vscode) extension for Visual Studio Code. (When opening the first it will install .NET Interactive)* Trouble? Check out https://github.com/dotnet/interactive"
   ]
  },
  {
   "cell_type": "markdown",
   "metadata": {},
   "source": [
    "# Show data (optional)"
   ]
  },
  {
   "cell_type": "code",
   "execution_count": null,
   "metadata": {
    "dotnet_interactive": {
     "language": "csharp"
    },
    "vscode": {
     "languageId": "dotnet-interactive.csharp"
    }
   },
   "outputs": [
    {
     "data": {
      "text/html": [
       "<div><div><strong>Restore sources</strong><ul><li><span>https://pkgs.dev.azure.com/dnceng/public/_packaging/dotnet-tools/nuget/v3/index.json</span></li><li><span>https://pkgs.dev.azure.com/dnceng/public/_packaging/dotnet5/nuget/v3/index.json</span></li></ul></div><div></div><div><strong>Installed Packages</strong><ul><li><span>Microsoft.Data.Analysis, 0.19.0</span></li><li><span>XPlot.Plotly.Interactive, 4.0.6</span></li></ul></div></div>"
      ]
     },
     "metadata": {},
     "output_type": "display_data"
    },
    {
     "data": {
      "text/markdown": [
       "Loading extensions from `Microsoft.Data.Analysis.Interactive.dll`"
      ]
     },
     "metadata": {},
     "output_type": "display_data"
    },
    {
     "data": {
      "text/markdown": [
       "Loading extensions from `XPlot.Plotly.Interactive.dll`"
      ]
     },
     "metadata": {},
     "output_type": "display_data"
    },
    {
     "data": {
      "text/markdown": [
       "Configuring PowerShell Kernel for XPlot.Plotly integration."
      ]
     },
     "metadata": {},
     "output_type": "display_data"
    },
    {
     "data": {
      "text/markdown": [
       "Installed support for XPlot.Plotly."
      ]
     },
     "metadata": {},
     "output_type": "display_data"
    }
   ],
   "source": [
    "// This may take over a minute\n",
    "#i \"nuget:https://pkgs.dev.azure.com/dnceng/public/_packaging/dotnet5/nuget/v3/index.json\" \n",
    "#i \"nuget:https://pkgs.dev.azure.com/dnceng/public/_packaging/dotnet-tools/nuget/v3/index.json\" \n",
    "\n",
    "#r \"nuget:Microsoft.Data.Analysis, 0.19.0\"\n",
    "#r \"nuget:XPlot.Plotly.Interactive, 4.0.6\"\n"
   ]
  },
  {
   "cell_type": "code",
   "execution_count": null,
   "metadata": {
    "dotnet_interactive": {
     "language": "csharp"
    },
    "vscode": {
     "languageId": "dotnet-interactive.csharp"
    }
   },
   "outputs": [
    {
     "data": {
      "text/html": [
       "<!DOCTYPE html>\n",
       "<div style=\"width: 400px; height: 400px;\" id=\"b27cac23-f45b-4ae1-b913-478b744ceb42\"></div><script type=\"text/javascript\">\n",
       "\n",
       "var renderPlotly = function() {\n",
       "    var xplotRequire = require.config({context:'xplot-3.0.1',paths:{plotly:'https://cdn.plot.ly/plotly-1.49.2.min'}}) || require;\n",
       "    xplotRequire(['plotly'], function(Plotly) { \n",
       "\n",
       "            var data = [{\"type\":\"scattergl\",\"x\":[1.1221147,-0.8188294,1.6137097,-0.92300916,0.14385146,0.16447246,1.3387706,0.8711486,1.8312994,0.4875712,0.03746235,-0.44391686,-0.8122295,1.6355231,0.47353902,0.75354934,0.26421282,1.4275572,-0.37235606,-0.961302,0.78085846,0.91660905,1.0470381,-0.060363054,0.029189538,-0.39573225,-0.10464591,1.8811,0.8274088,1.2977711,-0.6768929,0.5295299,-0.8438023,0.2659847,0.13740386,-0.9104394,1.3374003,1.0225772,1.0249013,-0.7508959,1.2028164,-0.4691021,0.7408367,0.7869051,-0.13005191,0.8040231,0.28330368,-0.7110554,0.30262452,0.8079146,-0.9416269,1.1408149,-0.15713753,1.7150437,0.37246576,-0.74309576,0.6814249,0.86861247,1.0022957,-1.0221939,-0.6107626,-0.77668303,1.1053001,-0.1789046,0.40498304,1.814573,-0.79128563,1.9817315,0.73242795,2.1114166,2.162056,0.8962454,0.37349376,0.5849646,0.17632979,0.109115645,0.29753274,0.096046574,0.47464365,1.1163471,0.5536276,0.1895281,1.9456692,-0.08462662,1.16858,0.12446847,2.0338993,-0.028000537,0.7409348,0.79394704,0.86874264,1.6187444,1.4298656,1.9748044,1.8535634,1.7491217,-0.6856689,1.7523743,0.18078955,0.12108297],\"y\":[0.08147717,0.058790065,-0.1246459,0.3652289,0.04438005,0.11738346,-0.23800993,-0.4227176,-0.14104383,0.6390928,0.4235881,0.8967393,0.9120909,-0.34999675,0.9573426,0.62372714,-0.24241982,-0.37251034,0.9566917,0.3260901,0.7974894,-0.42763844,-0.5444925,0.11960909,0.306839,0.8965439,1.1178831,0.29920256,0.34497717,-0.36654314,0.8555996,0.9473559,0.60473984,0.887322,0.3978569,-0.097096644,-0.36741197,-0.3975265,-0.5486393,0.25328773,0.08115382,0.78079623,0.45923254,0.76624745,1.1193894,-0.42315447,-0.21944071,0.7116388,-0.09338909,0.3365383,0.16801858,-0.46289718,0.9321066,-0.18362008,-0.12607841,0.69895166,0.68563426,-0.37278616,0.21687478,0.3975082,0.8311714,0.64360934,0.2191628,1.0695977,0.82647836,0.034525376,0.20006882,0.46076053,-0.39965755,0.18064071,0.49423382,0.46153605,1.044983,-0.32125983,0.19745572,0.481557,0.9958364,-0.046269864,-0.10512648,-0.41553438,-0.42312583,1.0183566,-0.0953034,1.0726234,-0.02848107,1.0572503,0.2847298,0.17076764,0.4141144,0.5597258,-0.5301472,-0.3258453,-0.4733421,-0.17793162,0.34226397,0.028339025,0.46535695,0.16452052,-0.00029541762,1.0655522],\"mode\":\"markers\",\"marker\":{\"color\":[-1.0,-1.0,1.0,-1.0,1.0,1.0,1.0,1.0,1.0,-1.0,1.0,-1.0,-1.0,1.0,-1.0,-1.0,1.0,1.0,-1.0,-1.0,-1.0,1.0,1.0,1.0,1.0,-1.0,-1.0,1.0,-1.0,1.0,-1.0,-1.0,-1.0,-1.0,1.0,-1.0,1.0,1.0,1.0,-1.0,-1.0,-1.0,-1.0,-1.0,-1.0,1.0,1.0,-1.0,1.0,-1.0,-1.0,1.0,-1.0,1.0,1.0,-1.0,-1.0,1.0,-1.0,-1.0,-1.0,-1.0,-1.0,-1.0,-1.0,1.0,-1.0,1.0,1.0,1.0,1.0,-1.0,-1.0,1.0,1.0,1.0,-1.0,1.0,1.0,1.0,1.0,-1.0,1.0,-1.0,-1.0,-1.0,1.0,1.0,-1.0,-1.0,1.0,1.0,1.0,1.0,1.0,1.0,-1.0,1.0,1.0,-1.0],\"colorscale\":\"Jet\"}}];\n",
       "           var layout = \"\";\n",
       "           Plotly.newPlot('b27cac23-f45b-4ae1-b913-478b744ceb42', data, layout);\n",
       "        \n",
       "});\n",
       "};\n",
       "// ensure `require` is available globally\r\n",
       "if ((typeof(require) !==  typeof(Function)) || (typeof(require.config) !== typeof(Function))) {\r\n",
       "    let require_script = document.createElement('script');\r\n",
       "    require_script.setAttribute('src', 'https://cdnjs.cloudflare.com/ajax/libs/require.js/2.3.6/require.min.js');\r\n",
       "    require_script.setAttribute('type', 'text/javascript');\r\n",
       "    \r\n",
       "    \r\n",
       "    require_script.onload = function() {\r\n",
       "        renderPlotly();\r\n",
       "    };\r\n",
       "\r\n",
       "    document.getElementsByTagName('head')[0].appendChild(require_script);\r\n",
       "}\r\n",
       "else {\r\n",
       "    renderPlotly();\r\n",
       "}\r\n",
       "\n",
       "</script>\n"
      ]
     },
     "metadata": {},
     "output_type": "display_data"
    }
   ],
   "source": [
    "using static Microsoft.DotNet.Interactive.Formatting.PocketViewTags;\n",
    "using Microsoft.DotNet.Interactive.Formatting;\n",
    "using Microsoft.Data.Analysis;\n",
    "using XPlot.Plotly;\n",
    "\n",
    "var df = DataFrame.LoadCsv(\"data/labeled_data.csv\");\n",
    "\n",
    "var chart = Chart.Plot(\n",
    "    new Scattergl()\n",
    "    {\n",
    "        x = df.Columns[\"x\"],\n",
    "        y = df.Columns[\"y\"],\n",
    "        mode = \"markers\",\n",
    "        marker = new Marker()\n",
    "        {\n",
    "            color = df.Columns[\"label\"],\n",
    "            colorscale = \"Jet\"\n",
    "        }\n",
    "    }\n",
    ");\n",
    "\n",
    "chart.Width = 400;\n",
    "chart.Height = 400;\n",
    "chart.Display();\n"
   ]
  },
  {
   "cell_type": "markdown",
   "metadata": {},
   "source": [
    "# Train"
   ]
  },
  {
   "cell_type": "code",
   "execution_count": null,
   "metadata": {
    "dotnet_interactive": {
     "language": "csharp"
    },
    "vscode": {
     "languageId": "dotnet-interactive.csharp"
    }
   },
   "outputs": [],
   "source": [
    "// One day we can import projects or files\n",
    "// TODO import NMicorgrad.dll\n",
    "\n",
    "#r \"src/NMicrograd/bin/Debug/net6.0/NMicrograd.dll\" // '\\' in Windows"
   ]
  },
  {
   "cell_type": "code",
   "execution_count": null,
   "metadata": {
    "dotnet_interactive": {
     "language": "csharp"
    },
    "vscode": {
     "languageId": "dotnet-interactive.csharp"
    }
   },
   "outputs": [],
   "source": [
    "// Please see the notebook in the `data` folder for the steps how these were captures\n",
    "var lines = System.IO.File.ReadAllLines((\"data/labeled_data.csv\")).Skip(1); // 'data\\\\' in Windows \n",
    "\n",
    "// Format is x1, x2, label\n",
    "var data = lines.Select( l => l.Split(',')) \n",
    "   .Select( a => new {\n",
    "        X = new []{double.Parse(a[0]), double.Parse(a[1])},\n",
    "        Y = int.Parse(a[2])});"
   ]
  },
  {
   "cell_type": "code",
   "execution_count": null,
   "metadata": {
    "dotnet_interactive": {
     "language": "csharp"
    },
    "vscode": {
     "languageId": "dotnet-interactive.csharp"
    }
   },
   "outputs": [
    {
     "name": "stdout",
     "output_type": "stream",
     "text": [
      "MLP of [Layer of [ReLUNeuron(2),ReLUNeuron(2),ReLUNeuron(2),ReLUNeuron(2),ReLUNeuron(2),ReLUNeuron(2),ReLUNeuron(2),ReLUNeuron(2),ReLUNeuron(2),ReLUNeuron(2),ReLUNeuron(2),ReLUNeuron(2),ReLUNeuron(2),ReLUNeuron(2),ReLUNeuron(2),ReLUNeuron(2)],Layer of [ReLUNeuron(16),ReLUNeuron(16),ReLUNeuron(16),ReLUNeuron(16),ReLUNeuron(16),ReLUNeuron(16),ReLUNeuron(16),ReLUNeuron(16),ReLUNeuron(16),ReLUNeuron(16),ReLUNeuron(16),ReLUNeuron(16),ReLUNeuron(16),ReLUNeuron(16),ReLUNeuron(16),ReLUNeuron(16)],Layer of [LinearNeuron(16)]]\n",
      "Number of parameters: 337\n"
     ]
    }
   ],
   "source": [
    "using NMicrograd;\n",
    "\n",
    "var model = new MLP(2, new []{16, 16, 1}); // 2-layer neural network\n",
    "\n",
    "Console.WriteLine(model);\n",
    "Console.WriteLine($\"Number of parameters: {model.GetParameters().Count()}\");"
   ]
  },
  {
   "cell_type": "code",
   "execution_count": null,
   "metadata": {
    "dotnet_interactive": {
     "language": "csharp"
    },
    "vscode": {
     "languageId": "dotnet-interactive.csharp"
    }
   },
   "outputs": [],
   "source": [
    "using System.IO;\n",
    "\n",
    "// Optional\n",
    "// Copies exact weights used in the https://github.com/karpathy/micrograd/blob/master/demo.ipynb (from 14 Apr 2020)\n",
    "// so that the descent is exactly the same\n",
    "// Please see the notebook in the `data` folder for the steps how these were captures\n",
    "var weights = File.ReadAllText(Path.GetFullPath(\"data/weights_data.csv\")) // 'data\\\\' in Windows \n",
    "    .Split(',')\n",
    "    .Select( s => double.Parse(s));\n",
    "\n",
    "if(model.GetParameters().Count() != weights.Count())\n",
    "{\n",
    "    throw new Exception($\"Bad weights. Has {weights.Count()}, need {model.GetParameters().Count()}\");\n",
    "}\n",
    "\n",
    "// Fill the weights\n",
    "foreach((var p, var w) in model.GetParameters().Zip(weights, (p,w) => (p,w)))\n",
    "    p.Data = w; "
   ]
  },
  {
   "cell_type": "code",
   "execution_count": null,
   "metadata": {
    "dotnet_interactive": {
     "language": "csharp"
    },
    "vscode": {
     "languageId": "dotnet-interactive.csharp"
    }
   },
   "outputs": [],
   "source": [
    "static (Value TotalLoss, double Accuracy) GetLoss(\n",
    "    IEnumerable<IEnumerable<double>> x,\n",
    "    IEnumerable<int> y,\n",
    "    MLP model)\n",
    "{\n",
    "    var inputs = x.Select( d => d.Select( x => new Value(data: x)));\n",
    "\n",
    "    // forward the model to get scores\n",
    "    var scores = inputs.Select(input => model.F(input).First());\n",
    "\n",
    "    // svm \"max-margin\" loss\n",
    "    var losses = y.Zip(scores, (yi, scorei) => (1 + -yi*scorei).ReLU());\n",
    "    \n",
    "    var data_loss = losses.Aggregate(new Value(0), (s,d) => s+d) * (1.0 / losses.Count());\n",
    "\n",
    "    // L2 regularization\n",
    "    var alpha = 1e-4;\n",
    "    var reg_loss = alpha * model.GetParameters().Aggregate(new Value(0), (s,d) => s+(d*d));\n",
    "    var total_loss = data_loss + reg_loss;\n",
    "    \n",
    "    // also get accuracy\n",
    "    var accuracy = y.Zip(scores, (yi, scorei) => (yi > 0) == (scorei.Data > 0));\n",
    "    return (TotalLoss: total_loss, Accuracy: accuracy!.Sum(a => a ? 1.0 : 0) / accuracy!.Count());\n",
    "}"
   ]
  },
  {
   "cell_type": "code",
   "execution_count": null,
   "metadata": {
    "dotnet_interactive": {
     "language": "csharp"
    },
    "vscode": {
     "languageId": "dotnet-interactive.csharp"
    }
   },
   "outputs": [],
   "source": [
    "using Microsoft.Data.Analysis;\n",
    "using XPlot.Plotly;\n",
    "\n",
    "var boundaryPlots = new List<PlotlyChart>();\n",
    "\n",
    "void SaveDecisionBoundary(int epoch, double accuracy, bool showImmediately = false)\n",
    "{\n",
    "    var df = DataFrame.LoadCsv(\"data/labeled_data.csv\");\n",
    "\n",
    "    var inputsChart = new Scattergl()\n",
    "    {\n",
    "        x = df.Columns[\"x\"],\n",
    "        y = df.Columns[\"y\"],\n",
    "        mode = \"markers\",\n",
    "        marker = new Marker()\n",
    "        {\n",
    "            color = df.Columns[\"label\"],\n",
    "            colorscale = \"Jet\"\n",
    "        }\n",
    "    };\n",
    "\n",
    "    IEnumerable<float?> xs = df.Columns.GetSingleColumn(\"x\");\n",
    "    (var xmin, var xmax) = (xs.Min()!.Value, xs.Max()!.Value);\n",
    "    IEnumerable<float?> ys = df.Columns.GetSingleColumn(\"y\");\n",
    "    (var ymin, var ymax) = (ys.Min()!.Value, ys.Max()!.Value);\n",
    "\n",
    "    var margin = 0.25;\n",
    "    var step = 0.1;\n",
    "    var xyz = new List<(double x, double y, double z)>();\n",
    "    for(double x = xmin - margin; x < xmax + margin; x+=step)\n",
    "    for(double y = ymin - margin; y < ymax + margin; y+=step)\n",
    "    {\n",
    "        // var z = x < xmax/2 && y < ymax/2 ? -1 : 1;//+ new Random().Next(2);\n",
    "        \n",
    "        var inputs = new []{new Value(x), new Value(y)};\n",
    "\n",
    "        var z = model.F(inputs).First().Data;\n",
    "        //Console.WriteLine($\"{x},{y} => {z}\");\n",
    "        xyz.Add((x,y,z));\n",
    "    }\n",
    "\n",
    "    var boundary = new Contour()\n",
    "    {\n",
    "        x = xyz.Select( o => o.x),\n",
    "        y = xyz.Select( o => o.y),\n",
    "        z = xyz.Select( o => o.z),\n",
    "        opacity = 0.7\n",
    "    };\n",
    "\n",
    "    var chart = Chart.Plot(new Trace[] { inputsChart, boundary });\n",
    "\n",
    "    chart.Width = 400;\n",
    "    chart.Height = 400;\n",
    "    chart.WithTitle($\"Step {epoch}, accuracy {accuracy*100:0.0}%\");\n",
    "\n",
    "    if (showImmediately)\n",
    "        chart.Display();\n",
    "\n",
    "    boundaryPlots.Add(chart);\n",
    "}\n",
    "\n",
    "var lastSavedAccuracy = 0d;\n",
    "var seenPerfection = false;\n",
    "    \n",
    "\n",
    "void Log(int epoch, Value totalLoss, double accuracy, bool forceSave = false)\n",
    "{\n",
    "    bool saved = false;\n",
    "    if ((epoch < 0) // start\n",
    "        || forceSave // end\n",
    "        || (Math.Abs(lastSavedAccuracy - accuracy) >= 0.05) // big improvement \n",
    "        || ((accuracy == 1) && !seenPerfection)) // first time hitting 100%\n",
    "    {\n",
    "        if(accuracy == 1) seenPerfection = true;\n",
    "        lastSavedAccuracy = accuracy;\n",
    "        SaveDecisionBoundary(epoch, accuracy);  \n",
    "        saved = true;\n",
    "    }\n",
    "\n",
    "    if (epoch % 1 == 0 || epoch<0)\n",
    "        Console.WriteLine($\"step {epoch} loss {totalLoss.Data}, accuracy {accuracy*100:0.0}%{(saved?\", plot saved\":null)}\");\n",
    "}"
   ]
  },
  {
   "cell_type": "code",
   "execution_count": null,
   "metadata": {
    "dotnet_interactive": {
     "language": "csharp"
    },
    "vscode": {
     "languageId": "dotnet-interactive.csharp"
    }
   },
   "outputs": [
    {
     "ename": "Error",
     "evalue": "(14,5): error CS7036: There is no argument given that corresponds to the required formal parameter 'forceSave' of 'Log(int, Value, double, bool)'",
     "output_type": "error",
     "traceback": [
      "(14,5): error CS7036: There is no argument given that corresponds to the required formal parameter 'forceSave' of 'Log(int, Value, double, bool)'"
     ]
    }
   ],
   "source": [
    "(Value totalLoss, double accuracy) GetLoss()\n",
    "    => GetLoss(\n",
    "        x: data.Select(d => d.X), \n",
    "        y: data.Select(d => d.Y),\n",
    "        model);\n",
    "\n",
    "// Actual training\n",
    "var epochs = 100;\n",
    "for(int k = 0; k<epochs; k++)\n",
    "{\n",
    "    // forward\n",
    "    (Value totalLoss, double accuracy) = GetLoss();\n",
    "\n",
    "    Log(k-1, totalLoss, accuracy);\n",
    "\n",
    "    // backward\n",
    "    model.ZeroTheGrads();\n",
    "    totalLoss.Backward();\n",
    "    \n",
    "    // update (stochastic gradient descent)\n",
    "    var learning_rate = 1.0 - (0.9*k)/100;\n",
    "    foreach(var p in model.GetParameters())\n",
    "        p.Data -= learning_rate * p.Grad;\n",
    "}\n",
    "\n",
    "(Value totalLoss, double accuracy) = GetLoss();\n",
    "Log(epochs-1, totalLoss, accuracy, forceSave: true);"
   ]
  },
  {
   "cell_type": "code",
   "execution_count": null,
   "metadata": {
    "dotnet_interactive": {
     "language": "csharp"
    },
    "vscode": {
     "languageId": "dotnet-interactive.csharp"
    }
   },
   "outputs": [],
   "source": [
    "foreach(var plot in boundaryPlots)\n",
    "{\n",
    "    plot.Display();\n",
    "}"
   ]
  }
 ],
 "metadata": {
  "kernelspec": {
   "display_name": ".NET (C#)",
   "language": "C#",
   "name": ".net-csharp"
  },
  "language_info": {
   "name": "C#"
  }
 },
 "nbformat": 4,
 "nbformat_minor": 2
}
