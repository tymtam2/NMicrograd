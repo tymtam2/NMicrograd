{
 "cells": [
  {
   "cell_type": "markdown",
   "metadata": {},
   "source": [
    "*To run please install the [.NET Interactive Notebooks](https://marketplace.visualstudio.com/items?itemName=ms-dotnettools.dotnet-interactive-vscode) extension for Visual Studio Code. (When opening the first it will install .NET Interactive)*"
   ]
  },
  {
   "cell_type": "markdown",
   "metadata": {},
   "source": [
    "# Show data (optional)"
   ]
  },
  {
   "cell_type": "code",
   "execution_count": null,
   "metadata": {
    "dotnet_interactive": {
     "language": "csharp"
    },
    "vscode": {
     "languageId": "dotnet-interactive.csharp"
    }
   },
   "outputs": [
    {
     "data": {
      "text/html": [
       "<div><div><strong>Restore sources</strong><ul><li><span>https://pkgs.dev.azure.com/dnceng/public/_packaging/dotnet-tools/nuget/v3/index.json</span></li><li><span>https://pkgs.dev.azure.com/dnceng/public/_packaging/dotnet5/nuget/v3/index.json</span></li></ul></div><div></div><div><strong>Installed Packages</strong><ul><li><span>Microsoft.Data.Analysis, 0.19.0</span></li><li><span>Microsoft.ML, 1.7.0</span></li><li><span>Microsoft.ML.AutoML, 0.19.0</span></li><li><span>XPlot.Plotly.Interactive, 4.0.6</span></li></ul></div></div>"
      ]
     },
     "metadata": {},
     "output_type": "display_data"
    },
    {
     "data": {
      "text/markdown": [
       "Loading extensions from `XPlot.Plotly.Interactive.dll`"
      ]
     },
     "metadata": {},
     "output_type": "display_data"
    },
    {
     "data": {
      "text/markdown": [
       "Configuring PowerShell Kernel for XPlot.Plotly integration."
      ]
     },
     "metadata": {},
     "output_type": "display_data"
    },
    {
     "data": {
      "text/markdown": [
       "Installed support for XPlot.Plotly."
      ]
     },
     "metadata": {},
     "output_type": "display_data"
    },
    {
     "data": {
      "text/markdown": [
       "Loading extensions from `Microsoft.Data.Analysis.Interactive.dll`"
      ]
     },
     "metadata": {},
     "output_type": "display_data"
    }
   ],
   "source": [
    "// This may take over 1 mintue\n",
    "#i \"nuget:https://pkgs.dev.azure.com/dnceng/public/_packaging/dotnet5/nuget/v3/index.json\" \n",
    "#i \"nuget:https://pkgs.dev.azure.com/dnceng/public/_packaging/dotnet-tools/nuget/v3/index.json\" \n",
    "\n",
    "#r \"nuget:Microsoft.ML, 1.7.0\"\n",
    "#r \"nuget:Microsoft.ML.AutoML, 0.19.0\"\n",
    "#r \"nuget:Microsoft.Data.Analysis, 0.19.0\"\n",
    "#r \"nuget:XPlot.Plotly.Interactive, 4.0.6\"\n"
   ]
  },
  {
   "cell_type": "code",
   "execution_count": null,
   "metadata": {
    "dotnet_interactive": {
     "language": "csharp"
    },
    "vscode": {
     "languageId": "dotnet-interactive.csharp"
    }
   },
   "outputs": [
    {
     "ename": "Error",
     "evalue": "(11,9): error CS0117: 'Trace' does not contain a definition for 'x'\r\n(12,9): error CS0117: 'Trace' does not contain a definition for 'y'\r\n(13,9): error CS0117: 'Trace' does not contain a definition for 'mode'\r\n(14,9): error CS0117: 'Trace' does not contain a definition for 'marker'",
     "output_type": "error",
     "traceback": [
      "(11,9): error CS0117: 'Trace' does not contain a definition for 'x'\r\n",
      "(12,9): error CS0117: 'Trace' does not contain a definition for 'y'\r\n",
      "(13,9): error CS0117: 'Trace' does not contain a definition for 'mode'\r\n",
      "(14,9): error CS0117: 'Trace' does not contain a definition for 'marker'"
     ]
    }
   ],
   "source": [
    "using static Microsoft.DotNet.Interactive.Formatting.PocketViewTags;\n",
    "using Microsoft.DotNet.Interactive.Formatting;\n",
    "using Microsoft.Data.Analysis;\n",
    "using XPlot.Plotly;\n",
    "\n",
    "var data = DataFrame.LoadCsv(\"data/labeled_data.csv\");\n",
    "\n",
    "var chart = Chart.Plot(\n",
    "    new     ()\n",
    "    {\n",
    "        x = data.Columns[\"x\"],\n",
    "        y = data.Columns[\"y\"],\n",
    "        mode = \"markers\",\n",
    "        marker = new Marker()\n",
    "        {\n",
    "            color = data.Columns[\"label\"],\n",
    "            colorscale = \"Jet\"\n",
    "        }\n",
    "    }\n",
    ");\n",
    "\n",
    "chart.Width = 400;\n",
    "chart.Height = 400;\n",
    "chart.Display();\n"
   ]
  },
  {
   "cell_type": "markdown",
   "metadata": {},
   "source": [
    "# Train"
   ]
  },
  {
   "cell_type": "code",
   "execution_count": null,
   "metadata": {
    "dotnet_interactive": {
     "language": "csharp"
    },
    "vscode": {
     "languageId": "dotnet-interactive.csharp"
    }
   },
   "outputs": [],
   "source": [
    "// One day we can import projects or files\n",
    "// TODO import NMicorgrad.dll\n",
    "\n",
    "#r \"NMicrograd\\bin\\Debug\\net6.0\\NMicrograd.dll\""
   ]
  },
  {
   "cell_type": "code",
   "execution_count": null,
   "metadata": {
    "dotnet_interactive": {
     "language": "csharp"
    },
    "vscode": {
     "languageId": "dotnet-interactive.csharp"
    }
   },
   "outputs": [],
   "source": [
    "// Please see the notebook in the `data` folder for the steps how these were captures\n",
    "var lines = System.IO.File.ReadAllLines(\"data\\\\labeled_data.csv\").Skip(1);\n",
    "\n",
    "// Format is x1, x2, label\n",
    "var data = lines.Select( l => l.Split(',')) \n",
    "   .Select( a => new {\n",
    "        X = new []{double.Parse(a[0]), double.Parse(a[1])},\n",
    "        Y = int.Parse(a[2])});"
   ]
  },
  {
   "cell_type": "code",
   "execution_count": null,
   "metadata": {
    "dotnet_interactive": {
     "language": "csharp"
    },
    "vscode": {
     "languageId": "dotnet-interactive.csharp"
    }
   },
   "outputs": [
    {
     "name": "stdout",
     "output_type": "stream",
     "text": [
      "MLP of [Layer of [ReLUNeuron(2),ReLUNeuron(2),ReLUNeuron(2),ReLUNeuron(2),ReLUNeuron(2),ReLUNeuron(2),ReLUNeuron(2),ReLUNeuron(2),ReLUNeuron(2),ReLUNeuron(2),ReLUNeuron(2),ReLUNeuron(2),ReLUNeuron(2),ReLUNeuron(2),ReLUNeuron(2),ReLUNeuron(2)],Layer of [ReLUNeuron(16),ReLUNeuron(16),ReLUNeuron(16),ReLUNeuron(16),ReLUNeuron(16),ReLUNeuron(16),ReLUNeuron(16),ReLUNeuron(16),ReLUNeuron(16),ReLUNeuron(16),ReLUNeuron(16),ReLUNeuron(16),ReLUNeuron(16),ReLUNeuron(16),ReLUNeuron(16),ReLUNeuron(16)],Layer of [LinearNeuron(16)]]\r\n",
      "Number of parameters: 337\r\n"
     ]
    }
   ],
   "source": [
    "using NMicrograd;\n",
    "\n",
    "var model = new MLP(2, new []{16, 16, 1}); // 2-layer neural network\n",
    "\n",
    "Console.WriteLine(model);\n",
    "Console.WriteLine($\"Number of parameters: {model.GetParameters().Count()}\");"
   ]
  },
  {
   "cell_type": "code",
   "execution_count": null,
   "metadata": {
    "dotnet_interactive": {
     "language": "csharp"
    },
    "vscode": {
     "languageId": "dotnet-interactive.csharp"
    }
   },
   "outputs": [],
   "source": [
    "using System.IO;\n",
    "\n",
    "// Optional\n",
    "// Copies exact weights used in the https://github.com/karpathy/micrograd/blob/master/demo.ipynb (from 14 Apr 2020)\n",
    "// so that the descent is exactly the same\n",
    "// Please see the notebook in the `data` folder for the steps how these were captures\n",
    "var weights = File.ReadAllText(\"data\\\\weights_data.csv\")\n",
    "    .Split(',')\n",
    "    .Select( s => double.Parse(s));\n",
    "\n",
    "if(model.GetParameters().Count() != weights.Count())\n",
    "{\n",
    "    throw new Exception($\"Bad weights. Has {weights.Count()}, need {model.GetParameters().Count()}\");\n",
    "}\n",
    "\n",
    "// Fill the weights\n",
    "foreach((var p, var w) in model.GetParameters().Zip(weights, (p,w) => (p,w)))\n",
    "    p.Data = w; "
   ]
  },
  {
   "cell_type": "code",
   "execution_count": null,
   "metadata": {
    "dotnet_interactive": {
     "language": "csharp"
    },
    "vscode": {
     "languageId": "dotnet-interactive.csharp"
    }
   },
   "outputs": [],
   "source": [
    "static (Value TotalLoss, double Accuracy) GetLoss(\n",
    "    IEnumerable<IEnumerable<double>> x,\n",
    "    IEnumerable<int> y,\n",
    "    MLP model)\n",
    "{\n",
    "    var inputs = x.Select( d => d.Select( x => new Value(data: x)));\n",
    "\n",
    "    // forward the model to get scores\n",
    "    var scores = inputs.Select(input => model.F(input).First());\n",
    "\n",
    "    // svm \"max-margin\" loss\n",
    "    var losses = y.Zip(scores, (yi, scorei) => (1 + -yi*scorei).ReLU());\n",
    "    \n",
    "    // var data_loss = new Value(0);\n",
    "    // foreach(var l in losses) data_loss+=l;\n",
    "    // data_loss = data_loss * (1.0 / losses.Count());\n",
    "    var data_loss = losses.Aggregate(new Value(0), (s,d) => s+d) * (1.0 / losses.Count());\n",
    "\n",
    "    // L2 regularization\n",
    "    var alpha = 1e-4;\n",
    "    //var reg_loss = new Value(0);\n",
    "    //model.GetParameters().Select(p => p*p).ToList().ForEach(p2 => reg_loss += p2); \n",
    "    //reg_loss = alpha * reg_loss;\n",
    "    var reg_loss = alpha * model.GetParameters().Aggregate(new Value(0), (s,d) => s+(d*d));\n",
    "    var total_loss = data_loss + reg_loss;\n",
    "    \n",
    "    // also get accuracy\n",
    "    var accuracy = y.Zip(scores, (yi, scorei) => (yi > 0) == (scorei.Data > 0));\n",
    "    return (TotalLoss: total_loss, Accuracy: accuracy!.Sum(a => a ? 1.0 : 0) / accuracy!.Count());\n",
    "}"
   ]
  },
  {
   "cell_type": "code",
   "execution_count": null,
   "metadata": {
    "dotnet_interactive": {
     "language": "csharp"
    },
    "vscode": {
     "languageId": "dotnet-interactive.csharp"
    }
   },
   "outputs": [
    {
     "name": "stdout",
     "output_type": "stream",
     "text": [
      "step 0 loss 0.89584410286832217, accuracy 50.0%\r\n",
      "step 1 loss 1.72359053369720128, accuracy 81.0%\r\n",
      "step 2 loss 0.74290063138511309, accuracy 77.0%\r\n",
      "step 3 loss 0.77056412605842017, accuracy 82.0%\r\n",
      "step 4 loss 0.36927933859765377, accuracy 84.0%\r\n",
      "step 5 loss 0.31354548191852194, accuracy 86.0%\r\n",
      "step 6 loss 0.28142343497724337, accuracy 89.0%\r\n",
      "step 7 loss 0.26888733313983904, accuracy 91.0%\r\n",
      "step 8 loss 0.25671472860574168, accuracy 91.0%\r\n",
      "step 9 loss 0.27048625516379227, accuracy 91.0%\r\n",
      "step 10 loss 0.24507023853658050, accuracy 91.0%\r\n",
      "step 11 loss 0.25099055297915035, accuracy 92.0%\r\n",
      "step 12 loss 0.21560951851922952, accuracy 91.0%\r\n",
      "step 13 loss 0.23090378446402726, accuracy 93.0%\r\n",
      "step 14 loss 0.20152151227899456, accuracy 92.0%\r\n",
      "step 15 loss 0.22574506279282219, accuracy 93.0%\r\n",
      "step 16 loss 0.19447987596204114, accuracy 92.0%\r\n",
      "step 17 loss 0.21089496199246355, accuracy 93.0%\r\n",
      "step 18 loss 0.15983077356303607, accuracy 94.0%\r\n",
      "step 19 loss 0.18453748746883916, accuracy 93.0%\r\n",
      "step 20 loss 0.18977522856087639, accuracy 91.0%\r\n",
      "step 21 loss 0.19072704042579647, accuracy 93.0%\r\n",
      "step 22 loss 0.11733695088756486, accuracy 97.0%\r\n",
      "step 23 loss 0.12173524408232458, accuracy 95.0%\r\n",
      "step 24 loss 0.12615712612770452, accuracy 95.0%\r\n",
      "step 25 loss 0.16049097780801680, accuracy 95.0%\r\n",
      "step 26 loss 0.18747197705245802, accuracy 92.0%\r\n",
      "step 27 loss 0.16741837891059413, accuracy 95.0%\r\n",
      "step 28 loss 0.09586583491455403, accuracy 97.0%\r\n",
      "step 29 loss 0.08778783707420916, accuracy 96.0%\r\n",
      "step 30 loss 0.11731297569011853, accuracy 95.0%\r\n",
      "step 31 loss 0.09340146460619839, accuracy 97.0%\r\n",
      "step 32 loss 0.12454454903103457, accuracy 95.0%\r\n",
      "step 33 loss 0.07984002652777274, accuracy 97.0%\r\n",
      "step 34 loss 0.07727519232921680, accuracy 97.0%\r\n",
      "step 35 loss 0.07661250143094478, accuracy 98.0%\r\n",
      "step 36 loss 0.10610492379198373, accuracy 96.0%\r\n",
      "step 37 loss 0.09062808429265980, accuracy 99.0%\r\n",
      "step 38 loss 0.10671887043036932, accuracy 95.0%\r\n",
      "step 39 loss 0.05225659921975852, accuracy 98.0%\r\n",
      "step 40 loss 0.06016009895234468, accuracy 100.0%\r\n",
      "step 41 loss 0.08596724533333938, accuracy 96.0%\r\n",
      "step 42 loss 0.05112107943179602, accuracy 99.0%\r\n",
      "step 43 loss 0.05240142401642834, accuracy 97.0%\r\n",
      "step 44 loss 0.04530684179001575, accuracy 100.0%\r\n",
      "step 45 loss 0.07211073370655093, accuracy 97.0%\r\n",
      "step 46 loss 0.03334238651310238, accuracy 99.0%\r\n",
      "step 47 loss 0.03143222795751124, accuracy 100.0%\r\n",
      "step 48 loss 0.03658536747111510, accuracy 99.0%\r\n",
      "step 49 loss 0.04829139382390310, accuracy 99.0%\r\n",
      "step 50 loss 0.09875114765619626, accuracy 96.0%\r\n",
      "step 51 loss 0.05449063965875452, accuracy 99.0%\r\n",
      "step 52 loss 0.03392679435708314, accuracy 100.0%\r\n",
      "step 53 loss 0.05261517263568440, accuracy 97.0%\r\n",
      "step 54 loss 0.03250295251424922, accuracy 99.0%\r\n",
      "step 55 loss 0.02888327387207826, accuracy 100.0%\r\n",
      "step 56 loss 0.04139151104027238, accuracy 98.0%\r\n",
      "step 57 loss 0.01898740742612853, accuracy 100.0%\r\n",
      "step 58 loss 0.02523833523883737, accuracy 100.0%\r\n",
      "step 59 loss 0.02079656521341900, accuracy 100.0%\r\n",
      "step 60 loss 0.03259711157810224, accuracy 99.0%\r\n",
      "step 61 loss 0.01786335169348037, accuracy 100.0%\r\n",
      "step 62 loss 0.02300871783221165, accuracy 100.0%\r\n",
      "step 63 loss 0.02207932546358160, accuracy 100.0%\r\n",
      "step 64 loss 0.02943291785352957, accuracy 99.0%\r\n",
      "step 65 loss 0.01625151464409205, accuracy 100.0%\r\n",
      "step 66 loss 0.02846853448326437, accuracy 99.0%\r\n",
      "step 67 loss 0.01399436554620871, accuracy 100.0%\r\n",
      "step 68 loss 0.01555234484365157, accuracy 100.0%\r\n",
      "step 69 loss 0.03389119946160163, accuracy 99.0%\r\n",
      "step 70 loss 0.01422987006592689, accuracy 100.0%\r\n",
      "step 71 loss 0.01325528158328548, accuracy 100.0%\r\n",
      "step 72 loss 0.01230027759002204, accuracy 100.0%\r\n",
      "step 73 loss 0.01267605249835609, accuracy 100.0%\r\n",
      "step 74 loss 0.02059381195595470, accuracy 100.0%\r\n",
      "step 75 loss 0.01184539820536442, accuracy 100.0%\r\n",
      "step 76 loss 0.01601269747288325, accuracy 100.0%\r\n",
      "step 77 loss 0.02545836023922207, accuracy 100.0%\r\n",
      "step 78 loss 0.01438293028966188, accuracy 100.0%\r\n",
      "step 79 loss 0.01169896242581796, accuracy 100.0%\r\n",
      "step 80 loss 0.01231850080051583, accuracy 100.0%\r\n",
      "step 81 loss 0.01412111703146420, accuracy 100.0%\r\n",
      "step 82 loss 0.01166459196244619, accuracy 100.0%\r\n",
      "step 83 loss 0.01158931454918874, accuracy 100.0%\r\n",
      "step 84 loss 0.01099029934773522, accuracy 100.0%\r\n",
      "step 85 loss 0.01098922672069161, accuracy 100.0%\r\n",
      "step 86 loss 0.01098819375765507, accuracy 100.0%\r\n",
      "step 87 loss 0.01098720044738870, accuracy 100.0%\r\n",
      "step 88 loss 0.01098624677908492, accuracy 100.0%\r\n",
      "step 89 loss 0.01098533274236527, accuracy 100.0%\r\n",
      "step 90 loss 0.01098445832728018, accuracy 100.0%\r\n",
      "step 91 loss 0.01098362352430886, accuracy 100.0%\r\n",
      "step 92 loss 0.01098282832435907, accuracy 100.0%\r\n",
      "step 93 loss 0.01098207271876700, accuracy 100.0%\r\n",
      "step 94 loss 0.01098135669929704, accuracy 100.0%\r\n",
      "step 95 loss 0.01098068025814172, accuracy 100.0%\r\n",
      "step 96 loss 0.01098004338792151, accuracy 100.0%\r\n",
      "step 97 loss 0.01097944608168467, accuracy 100.0%\r\n",
      "step 98 loss 0.01097888833290723, accuracy 100.0%\r\n",
      "step 99 loss 0.01097837013549272, accuracy 100.0%\r\n"
     ]
    }
   ],
   "source": [
    "// Actual training\n",
    "for(int k = 0; k<100; k++)\n",
    "{\n",
    "    // forward\n",
    "    (var total_loss, var acc) = GetLoss(\n",
    "        x: data.Select(d => d.X), \n",
    "        y: data.Select(d => d.Y),\n",
    "        model);\n",
    "    \n",
    "    // backward\n",
    "    model.ZeroTheGrads();\n",
    "    total_loss.Backward();\n",
    "    \n",
    "    // update (stochastic gradient descent)\n",
    "    var learning_rate = 1.0 - (0.9*k)/100;\n",
    "    foreach(var p in model.GetParameters())\n",
    "        p.Data -= learning_rate * p.Grad;\n",
    "\n",
    "    if (k % 1 == 0)\n",
    "        Console.WriteLine($\"step {k} loss {string.Format(\"{0:F17}\", total_loss.Data)}, accuracy {acc*100:0.0}%\");\n",
    "}"
   ]
  },
  {
   "cell_type": "code",
   "execution_count": null,
   "metadata": {
    "dotnet_interactive": {
     "language": "csharp"
    },
    "vscode": {
     "languageId": "dotnet-interactive.csharp"
    }
   },
   "outputs": [],
   "source": [
    "// TODO capture decision boudary at every n steps and create a gif from them"
   ]
  }
 ],
 "metadata": {
  "kernelspec": {
   "display_name": ".NET (C#)",
   "language": "C#",
   "name": ".net-csharp"
  },
  "language_info": {
   "name": "C#"
  }
 },
 "nbformat": 4,
 "nbformat_minor": 2
}
